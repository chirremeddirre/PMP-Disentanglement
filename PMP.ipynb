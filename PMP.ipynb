{
 "cells": [
  {
   "cell_type": "code",
   "execution_count": 1,
   "id": "830f3976",
   "metadata": {},
   "outputs": [],
   "source": [
    "from torch import nn\n",
    "import torch\n",
    "import torchvision\n",
    "from torchvision import datasets\n",
    "import torchvision.transforms as transforms\n",
    "from torch.utils.data import Dataset, DataLoader\n",
    "from skimage import io, transform\n",
    "import numpy as np\n",
    "import torch.nn.functional as F"
   ]
  },
  {
   "cell_type": "code",
   "execution_count": 2,
   "id": "85bd189c",
   "metadata": {},
   "outputs": [],
   "source": [
    "device = 'cuda' if torch.cuda.is_available() else 'cpu'"
   ]
  },
  {
   "cell_type": "code",
   "execution_count": 3,
   "id": "0f97f37b",
   "metadata": {},
   "outputs": [
    {
     "name": "stderr",
     "output_type": "stream",
     "text": [
      "0.5%"
     ]
    },
    {
     "name": "stdout",
     "output_type": "stream",
     "text": [
      "Downloading http://yann.lecun.com/exdb/mnist/train-images-idx3-ubyte.gz\n",
      "Downloading http://yann.lecun.com/exdb/mnist/train-images-idx3-ubyte.gz to ./data/MNIST/raw/train-images-idx3-ubyte.gz\n"
     ]
    },
    {
     "name": "stderr",
     "output_type": "stream",
     "text": [
      "49.5%IOPub message rate exceeded.\n",
      "The notebook server will temporarily stop sending output\n",
      "to the client in order to avoid crashing it.\n",
      "To change this limit, set the config variable\n",
      "`--NotebookApp.iopub_msg_rate_limit`.\n",
      "\n",
      "Current values:\n",
      "NotebookApp.iopub_msg_rate_limit=1000.0 (msgs/sec)\n",
      "NotebookApp.rate_limit_window=3.0 (secs)\n",
      "\n",
      "92.8%"
     ]
    },
    {
     "name": "stdout",
     "output_type": "stream",
     "text": [
      "Extracting ./data/MNIST/raw/train-images-idx3-ubyte.gz to ./data/MNIST/raw\n"
     ]
    },
    {
     "name": "stderr",
     "output_type": "stream",
     "text": [
      "102.8%"
     ]
    },
    {
     "name": "stdout",
     "output_type": "stream",
     "text": [
      "\n",
      "Downloading http://yann.lecun.com/exdb/mnist/train-labels-idx1-ubyte.gz\n",
      "Downloading http://yann.lecun.com/exdb/mnist/train-labels-idx1-ubyte.gz to ./data/MNIST/raw/train-labels-idx1-ubyte.gz\n",
      "Extracting ./data/MNIST/raw/train-labels-idx1-ubyte.gz to ./data/MNIST/raw\n",
      "\n",
      "Downloading http://yann.lecun.com/exdb/mnist/t10k-images-idx3-ubyte.gz\n",
      "Downloading http://yann.lecun.com/exdb/mnist/t10k-images-idx3-ubyte.gz to ./data/MNIST/raw/t10k-images-idx3-ubyte.gz\n"
     ]
    },
    {
     "name": "stderr",
     "output_type": "stream",
     "text": [
      "\n",
      "2.9%IOPub message rate exceeded.\n",
      "The notebook server will temporarily stop sending output\n",
      "to the client in order to avoid crashing it.\n",
      "To change this limit, set the config variable\n",
      "`--NotebookApp.iopub_msg_rate_limit`.\n",
      "\n",
      "Current values:\n",
      "NotebookApp.iopub_msg_rate_limit=1000.0 (msgs/sec)\n",
      "NotebookApp.rate_limit_window=3.0 (secs)\n",
      "\n"
     ]
    }
   ],
   "source": [
    "# Transforms images to a PyTorch Tensor\n",
    "tensor_transform = transforms.ToTensor()\n",
    "  \n",
    "# Download the MNIST Dataset\n",
    "MNIST_dataset = datasets.MNIST(root = \"./data\",\n",
    "                         train = True,\n",
    "                         download = True,\n",
    "                         transform = tensor_transform)\n",
    "  \n",
    "# DataLoader is used to load the dataset \n",
    "# for training\n",
    "MNIST_loader = torch.utils.data.DataLoader(dataset = MNIST_dataset,\n",
    "                                     batch_size = 32,\n",
    "                                     shuffle = True)"
   ]
  },
  {
   "cell_type": "code",
   "execution_count": 4,
   "id": "a47b72ef",
   "metadata": {},
   "outputs": [],
   "source": [
    "def unpickle(file):\n",
    "    import pickle\n",
    "    with open(file, 'rb') as fo:\n",
    "        dict = pickle.load(fo, encoding='bytes')\n",
    "    return dict"
   ]
  },
  {
   "cell_type": "code",
   "execution_count": 5,
   "id": "707e191e",
   "metadata": {},
   "outputs": [],
   "source": [
    "class CifarB1Dataset(Dataset):\n",
    "    def __init__(self, dic):\n",
    "        self.data = dic[b'data']\n",
    "        \n",
    "    def __len__(self):\n",
    "        return len(self.data)\n",
    "    \n",
    "    def __getitem__(self, idx):\n",
    "        data = torch.tensor(self.data[idx])\n",
    "        data = torch.reshape(data, (3,32,32))/255\n",
    "        return data"
   ]
  },
  {
   "cell_type": "code",
   "execution_count": 6,
   "id": "c7468f06",
   "metadata": {},
   "outputs": [],
   "source": [
    "def split_batch(batch):\n",
    "    split_size = batch.size(dim=0)//2\n",
    "    x1, x2 = torch.split(batch, split_size)\n",
    "    return x1, x2"
   ]
  },
  {
   "cell_type": "code",
   "execution_count": 7,
   "id": "2273e69a",
   "metadata": {},
   "outputs": [],
   "source": [
    "dic = unpickle(\"../cifar-10-batches-py/data_batch_1\")\n",
    "training_data = CifarB1Dataset(dic)\n",
    "batch_size = 50\n",
    "cifar_loader = DataLoader(training_data, batch_size=batch_size, shuffle=True)\n",
    "\n",
    "train_dataloader = cifar_loader"
   ]
  },
  {
   "cell_type": "code",
   "execution_count": 8,
   "id": "a26e81d4",
   "metadata": {},
   "outputs": [],
   "source": [
    "class AutoEncoder(nn.Module):\n",
    "    def __init__(self, size = 32, chan = 3):\n",
    "        super().__init__()\n",
    "        self.conv =  nn.Sequential(nn.Conv2d(chan,8,3,stride=1,padding=1),\n",
    "                                     torch.nn.ReLU(),\n",
    "                                     nn.Conv2d(8,16,4,stride=2,padding=1),\n",
    "                                     torch.nn.ReLU()\n",
    "        )\n",
    "        \n",
    "        self.encoder = nn.Sequential(nn.Linear((size//2)*(size//2)*16, 256),\n",
    "                                     torch.nn.ReLU(),\n",
    "                                     nn.Linear(256,128),\n",
    "                                     torch.nn.ReLU(),\n",
    "                                     nn.Linear(128,64),\n",
    "                                     torch.nn.ReLU(),\n",
    "                                     nn.Linear(64,36),\n",
    "                                     torch.nn.ReLU()\n",
    "        )\n",
    "        \n",
    "        self.upconv = nn.Sequential(nn.ConvTranspose2d(1,3,3,stride = 2, padding = 1),\n",
    "                                    torch.nn.ReLU(),\n",
    "                                    nn.ConvTranspose2d(3,8,3,stride = 1, padding = 1),\n",
    "                                    torch.nn.ReLU()\n",
    "        )\n",
    "        \n",
    "        self.decoder = nn.Sequential(nn.Linear(8*11*11,1024),\n",
    "                                     torch.nn.ReLU(),\n",
    "                                     nn.Linear(1024,1536),\n",
    "                                     torch.nn.ReLU(),\n",
    "                                     #nn.Linear(64,128),\n",
    "                                     #torch.nn.ReLU(),\n",
    "                                     #nn.Linear(128,256),\n",
    "                                     #torch.nn.ReLU(),\n",
    "                                     nn.Linear(1536,size*size*chan),\n",
    "                                     torch.nn.Sigmoid()\n",
    "        )\n",
    "    \n",
    "    def forward(self, x):\n",
    "        batch_size = 0\n",
    "        if len(x.size()) > 3:\n",
    "            batch_size = x.size()[0]\n",
    "        x = self.conv(x)\n",
    "        x = torch.flatten(x,1)\n",
    "        x = self.encoder(x)\n",
    "        x = torch.reshape(x, (batch_size,1,6,6))\n",
    "        x = self.upconv(x)\n",
    "        #rint(x.size())\n",
    "        x = torch.flatten(x,1)\n",
    "        x = self.decoder(x)\n",
    "        #x = torch.reshape(x, (batch_size, 3, 32, 32))\n",
    "        return x"
   ]
  },
  {
   "cell_type": "code",
   "execution_count": 9,
   "id": "cde46ab7",
   "metadata": {},
   "outputs": [],
   "source": [
    "class PMP_Encoder(nn.Module):\n",
    "    def  __init__(self,d, chan):\n",
    "        super().__init__()\n",
    "        self.conv1 = nn.Conv2d(chan,32,4,stride=2, padding=1)\n",
    "        self.conv2 = nn.Conv2d(32,32,4,stride=2, padding=1)\n",
    "        self.conv3 = nn.Conv2d(32,64,4,stride=2, padding=1)\n",
    "        self.conv4 = nn.Conv2d(64,64,4,stride=2, padding=1)\n",
    "        self.fc = nn.Linear(64*2*2,256)\n",
    "        self.z = nn.Linear(256, d)\n",
    "    \n",
    "    def forward(self, x1 , x2):\n",
    "        x1 = F.relu(self.conv1(x1))\n",
    "        x1 = F.relu(self.conv2(x1))\n",
    "        x1 = F.relu(self.conv3(x1))\n",
    "        z1 = F.relu(self.conv4(x1))\n",
    "        #print(z1.size())\n",
    "        x2 = F.relu(self.conv1(x2))\n",
    "        x2 = F.relu(self.conv2(x2))\n",
    "        x2 = F.relu(self.conv3(x2))\n",
    "        z2 = F.relu(self.conv4(x2))\n",
    "        z1 = torch.flatten(z1,1)\n",
    "        z1 = F.relu(self.fc(z1))\n",
    "        s1 = self.z(z1)\n",
    "        z2 = torch.flatten(z2,1)\n",
    "        z2 = F.relu(self.fc(z2))\n",
    "        s2 = self.z(z2)\n",
    "        return s1, s2"
   ]
  },
  {
   "cell_type": "code",
   "execution_count": 10,
   "id": "69dcdccf",
   "metadata": {},
   "outputs": [],
   "source": [
    "class PMP_Decoder(nn.Module):\n",
    "    def  __init__(self, d, chan):\n",
    "        super().__init__()\n",
    "        self.fc1 = nn.Linear(d,256)\n",
    "        self.fc2 = nn.Linear(256,256)\n",
    "        self.fc3 = nn.Linear(256, 64*2*2)\n",
    "        # Reshape into 64x4x4\n",
    "        self.convt1 = nn.ConvTranspose2d(64, 64, 4,stride=2,padding=1)\n",
    "        self.convt2 = nn.ConvTranspose2d(64, 32, 4,stride=2,padding=1)\n",
    "        self.convt3 = nn.ConvTranspose2d(32, 32, 4,stride=2,padding=1)\n",
    "        self.convt4 = nn.ConvTranspose2d(32, chan, 4,stride=2,padding=1)\n",
    "    \n",
    "    def forward(self, z1, z2, batch_size):\n",
    "        z1 = F.relu(self.fc1(z1))\n",
    "        z1 = F.relu(self.fc2(z1))\n",
    "        z1 = F.relu(self.fc3(z1))\n",
    "        z2 = F.relu(self.fc1(z2))\n",
    "        z2 = F.relu(self.fc2(z2))\n",
    "        z2 = F.relu(self.fc3(z2))\n",
    "        #print(z1.size())\n",
    "        #print(f\"batch_size = {batch_size}\")\n",
    "        z1 = torch.reshape(z1, (batch_size, 64,2,2))\n",
    "        z2 = torch.reshape(z2, (batch_size, 64,2,2))\n",
    "\n",
    "        z1 = F.relu(self.convt1(z1))\n",
    "        z1 = F.relu(self.convt2(z1))\n",
    "        z1 = F.relu(self.convt3(z1))\n",
    "        x1 = F.relu(self.convt4(z1))\n",
    "\n",
    "        z2 = F.relu(self.convt1(z2))\n",
    "        z2 = F.relu(self.convt2(z2))\n",
    "        z2 = F.relu(self.convt3(z2))\n",
    "        x2 = F.relu(self.convt4(z2))\n",
    "\n",
    "        return x1, x2\n"
   ]
  },
  {
   "cell_type": "code",
   "execution_count": 11,
   "id": "9579f7bd",
   "metadata": {},
   "outputs": [],
   "source": [
    "class PMP(nn.Module):\n",
    "    def __init__(self, d=10, chan=3, batch_size=2):\n",
    "        super(PMP, self).__init__()\n",
    "        self.d = d\n",
    "        self.chan = chan\n",
    "        self.batch_size = batch_size\n",
    "        self.encoder = PMP_Encoder(self.d, self.chan)\n",
    "        self.decoder = PMP_Decoder(self.d, self.chan)\n",
    "    \n",
    "    def forward(self, x1, x2):\n",
    "        z1, z2 = self.encoder(x1, x2)\n",
    "        x1_, x2_ = self.decoder(z1, z2, self.batch_size)\n",
    "        return x1_, x2_"
   ]
  },
  {
   "cell_type": "code",
   "execution_count": 12,
   "id": "adfa6ba9",
   "metadata": {},
   "outputs": [
    {
     "name": "stdout",
     "output_type": "stream",
     "text": [
      "PMP(\n",
      "  (encoder): PMP_Encoder(\n",
      "    (conv1): Conv2d(3, 32, kernel_size=(4, 4), stride=(2, 2), padding=(1, 1))\n",
      "    (conv2): Conv2d(32, 32, kernel_size=(4, 4), stride=(2, 2), padding=(1, 1))\n",
      "    (conv3): Conv2d(32, 64, kernel_size=(4, 4), stride=(2, 2), padding=(1, 1))\n",
      "    (conv4): Conv2d(64, 64, kernel_size=(4, 4), stride=(2, 2), padding=(1, 1))\n",
      "    (fc): Linear(in_features=256, out_features=256, bias=True)\n",
      "    (z): Linear(in_features=256, out_features=10, bias=True)\n",
      "  )\n",
      "  (decoder): PMP_Decoder(\n",
      "    (fc1): Linear(in_features=10, out_features=256, bias=True)\n",
      "    (fc2): Linear(in_features=256, out_features=256, bias=True)\n",
      "    (fc3): Linear(in_features=256, out_features=256, bias=True)\n",
      "    (convt1): ConvTranspose2d(64, 64, kernel_size=(4, 4), stride=(2, 2), padding=(1, 1))\n",
      "    (convt2): ConvTranspose2d(64, 32, kernel_size=(4, 4), stride=(2, 2), padding=(1, 1))\n",
      "    (convt3): ConvTranspose2d(32, 32, kernel_size=(4, 4), stride=(2, 2), padding=(1, 1))\n",
      "    (convt4): ConvTranspose2d(32, 3, kernel_size=(4, 4), stride=(2, 2), padding=(1, 1))\n",
      "  )\n",
      ")\n"
     ]
    }
   ],
   "source": [
    "import torch.optim as optim\n",
    "size = 32\n",
    "channels = 3\n",
    "net = PMP(batch_size=batch_size//2)\n",
    "print(net)\n",
    "criterion = nn.L1Loss()\n",
    "optimizer = torch.optim.Adam(net.parameters(),\n",
    "                             lr = 0.0005,\n",
    "                             weight_decay = 1e-8)"
   ]
  },
  {
   "cell_type": "code",
   "execution_count": 19,
   "id": "731a95d8",
   "metadata": {},
   "outputs": [
    {
     "name": "stdout",
     "output_type": "stream",
     "text": [
      "[1,     1] loss: 0.000522\n",
      "[2,     1] loss: 0.000505\n",
      "[3,     1] loss: 0.000528\n",
      "[4,     1] loss: 0.000509\n",
      "[5,     1] loss: 0.000525\n",
      "[6,     1] loss: 0.000499\n",
      "[7,     1] loss: 0.000534\n",
      "[8,     1] loss: 0.000507\n",
      "[9,     1] loss: 0.000524\n",
      "[10,     1] loss: 0.000525\n",
      "[11,     1] loss: 0.000501\n",
      "[12,     1] loss: 0.000532\n",
      "[13,     1] loss: 0.000523\n",
      "[14,     1] loss: 0.000494\n",
      "[15,     1] loss: 0.000507\n",
      "[16,     1] loss: 0.000493\n",
      "[17,     1] loss: 0.000535\n",
      "[18,     1] loss: 0.000523\n",
      "[19,     1] loss: 0.000519\n",
      "[20,     1] loss: 0.000495\n",
      "[21,     1] loss: 0.000473\n",
      "[22,     1] loss: 0.000504\n",
      "[23,     1] loss: 0.000467\n",
      "[24,     1] loss: 0.000529\n",
      "[25,     1] loss: 0.000505\n",
      "[26,     1] loss: 0.000494\n",
      "[27,     1] loss: 0.000493\n",
      "[28,     1] loss: 0.000523\n",
      "[29,     1] loss: 0.000525\n",
      "[30,     1] loss: 0.000503\n",
      "[31,     1] loss: 0.000543\n",
      "[32,     1] loss: 0.000519\n",
      "[33,     1] loss: 0.000507\n",
      "[34,     1] loss: 0.000459\n",
      "[35,     1] loss: 0.000484\n"
     ]
    }
   ],
   "source": [
    "for epoch in range(35):  # loop over the dataset multiple times\n",
    "\n",
    "    running_loss = 0.0\n",
    "    for i, data in enumerate(train_dataloader, 0):\n",
    "        # get the inputs; data is a list of [inputs, labels]\n",
    "        x1, x2 = split_batch(data.float())\n",
    "        #print(x1.type())\n",
    "        # zero the parameter gradients\n",
    "        optimizer.zero_grad()\n",
    "\n",
    "        # forward + backward + optimize\n",
    "        x1_hat, x2_hat = net(x1,x2)\n",
    "        loss = criterion(torch.cat((x1,x2),0), torch.cat((x1_hat, x2_hat), 0))\n",
    "        loss.backward()\n",
    "        optimizer.step()\n",
    "\n",
    "        # print statistics\n",
    "        running_loss += loss.item()\n",
    "        if i % 200 == 0:    # print every 2000 mini-batches\n",
    "            print('[%d, %5d] loss: %.6f' %\n",
    "                  (epoch + 1, i + 1, running_loss / 200))\n",
    "            running_loss = 0.0"
   ]
  },
  {
   "cell_type": "code",
   "execution_count": 25,
   "id": "cf520942",
   "metadata": {},
   "outputs": [
    {
     "data": {
      "image/png": "[encoded data removed]",
      "text/plain": [
       "<Figure size 432x288 with 2 Axes>"
      ]
     },
     "metadata": {
      "needs_background": "light"
     },
     "output_type": "display_data"
    }
   ],
   "source": [
    "import matplotlib.pyplot as plt\n",
    "im = torch.reshape(x1_hat[0],(channels,size,size))\n",
    "im = im.detach().numpy()\n",
    "im = np.moveaxis(im,0,2)\n",
    "im_l = torch.reshape(x1[0],(channels,size,size)).detach().numpy()\n",
    "im_l = np.moveaxis(im_l,0,2)\n",
    "\n",
    "fig = plt.figure()\n",
    "fig.add_subplot(1,2,1)\n",
    "plt.imshow(im_l)\n",
    "fig.add_subplot(1,2,2)\n",
    "plt.imshow(im)\n",
    "plt.show()"
   ]
  },
  {
   "cell_type": "code",
   "execution_count": null,
   "id": "55a58bee",
   "metadata": {},
   "outputs": [],
   "source": [
    "import matplotlib.pyplot as plt\n",
    "im = torch.reshape(x1_hat[0],(3,32,32)) #torch.movedim(x1_hat,0,2)\n",
    "im = im.detach().numpy()\n",
    "#print(im.shape)\n",
    "#print(x1_hat.size())\n",
    "plt.imshow(im.T)\n",
    "im_l = torch.reshape(x1[0],(3,32,32)).detach().numpy()\n",
    "plt.imshow(im_l.T)\n",
    "#X = dic[b'data']\n",
    "#X = X.reshape(10000, 3, 32, 32).transpose(0,2,3,1).astype(\"uint8\")\n",
    "#im1 =np.array(dic[b'data'][5]).reshape(3,32,32).T\n",
    "\n",
    "print(im)\n",
    "#plt.imshow(im1)"
   ]
  },
  {
   "cell_type": "code",
   "execution_count": null,
   "id": "a1e8c1c1",
   "metadata": {},
   "outputs": [],
   "source": []
  }
 ],
 "metadata": {
  "kernelspec": {
   "display_name": "Python 3 (ipykernel)",
   "language": "python",
   "name": "python3"
  },
  "language_info": {
   "codemirror_mode": {
    "name": "ipython",
    "version": 3
   },
   "file_extension": ".py",
   "mimetype": "text/x-python",
   "name": "python",
   "nbconvert_exporter": "python",
   "pygments_lexer": "ipython3",
   "version": "3.9.7"
  }
 },
 "nbformat": 4,
 "nbformat_minor": 5
}
